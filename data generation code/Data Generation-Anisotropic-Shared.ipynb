{
 "cells": [
  {
   "cell_type": "code",
   "execution_count": 1,
   "metadata": {
    "collapsed": true
   },
   "outputs": [],
   "source": [
    "import numpy as np\n",
    "import os\n",
    "import matplotlib.pyplot as plt"
   ]
  },
  {
   "cell_type": "markdown",
   "metadata": {
    "collapsed": true
   },
   "source": [
    "## Non Uniform Data Generation:\n",
    "#### This notebook contains the code for generating the synthetic data used in the paper."
   ]
  },
  {
   "cell_type": "code",
   "execution_count": 2,
   "metadata": {
    "collapsed": true
   },
   "outputs": [],
   "source": [
    "def generate_nonuniform_data(n, d, eta, kappa, index):\n",
    "    # The dimension of the relevant Region\n",
    "    d1 = np.int(d ** eta)\n",
    "    nt = 10000    \n",
    "    exponent = (eta + kappa) / 2.0\n",
    "    r = d ** exponent\n",
    "    print(r'd_1 is %d'%(d1))\n",
    "    print(r'Kappa is %f'%(kappa))\n",
    "    print(r'The radius $\\sqrt{d}$ is %f'%(np.sqrt(d)))\n",
    "    print('The radius r is %f'%(r))\n",
    "    \n",
    "    # Making the features\n",
    "    np.random.seed(145)\n",
    "    # Train Data\n",
    "    X = np.random.normal(size=(n, d))\n",
    "    X = X.astype(np.float32)\n",
    "    for i in range(n):\n",
    "        X[i, :d1] = X[i, :d1] / np.linalg.norm(X[i, :d1]) * r\n",
    "        X[i, d1:] = X[i, d1:] / np.linalg.norm(X[i, d1:]) * np.sqrt(d)\n",
    "\n",
    "    # Test Data\n",
    "    np.random.seed(2)\n",
    "    XT = np.random.normal(size=(nt, d))\n",
    "    XT = XT.astype(np.float32)\n",
    "    for i in range(nt):\n",
    "        XT[i, :d1] = XT[i, :d1] / np.linalg.norm(XT[i, :d1]) * r\n",
    "        XT[i, d1:] = XT[i, d1:] / np.linalg.norm(XT[i, d1:]) * np.sqrt(d)\n",
    "        \n",
    "    directory = './datasets/synthetic/'\n",
    "    np.save(directory + 'X_train_anisotropic_%d_%d_%d.npy'%(d, d1, index), X)\n",
    "    np.save(directory + 'X_test_anisotropic_%d_%d_%d.npy'%(d, d1, index), XT)\n",
    "    X0 = X[:, :d1]\n",
    "    X1 = XT[:, :d1]\n",
    "    del X, XT\n",
    "    \n",
    "    # Make the labels\n",
    "    np.random.seed(14)\n",
    "    f = []\n",
    "    # The function has no linear component\n",
    "    beta2 = np.random.exponential(scale=1.0, size=(d1 - 1, 1))\n",
    "    beta3 = np.random.exponential(scale=1.0, size=(d1 - 2, 1))\n",
    "    beta4 = np.random.exponential(scale=1.0, size=(d1 - 3, 1))\n",
    "        \n",
    "    Z = np.multiply(X0[:, :-1], X0[:, 1:])\n",
    "    temp = np.dot(Z, beta2)\n",
    "    f.append(temp)\n",
    "\n",
    "    Z = np.multiply(X0[:, :-2], X0[:, 1:-1])\n",
    "    Z = np.multiply(Z, X0[:, 2:])\n",
    "    temp = np.dot(Z, beta3)\n",
    "    f.append(temp)\n",
    "\n",
    "    Z = np.multiply(X0[:, :-3], X0[:, 1:-2])\n",
    "    Z = np.multiply(Z, X0[:, 2:-1])\n",
    "    Z = np.multiply(Z, X0[:, 3:])\n",
    "    temp = np.dot(Z, beta4)\n",
    "    f.append(temp)\n",
    "    \n",
    "    normalization = [np.sqrt(np.mean(t ** 2)) for t in f]\n",
    "    for i in range(len(f)):\n",
    "        f[i] = f[i] / normalization[i]\n",
    "        \n",
    "    totalf = f[0] + f[1] + f[2]\n",
    "    totalf = totalf.astype(np.float32)\n",
    "    \n",
    "    g = []\n",
    "    \n",
    "    Z = np.multiply(X1[:, :-1], X1[:, 1:])\n",
    "    temp = np.dot(Z, beta2)\n",
    "    g.append(temp)\n",
    "\n",
    "    Z = np.multiply(X1[:, :-2], X1[:, 1:-1])\n",
    "    Z = np.multiply(Z, X1[:, 2:])\n",
    "    temp = np.dot(Z, beta3)\n",
    "    g.append(temp)\n",
    "\n",
    "    Z = np.multiply(X1[:, :-3], X1[:, 1:-2])\n",
    "    Z = np.multiply(Z, X1[:, 2:-1])\n",
    "    Z = np.multiply(Z, X1[:, 3:])\n",
    "    temp = np.dot(Z, beta4)\n",
    "    g.append(temp)\n",
    "    for i in range(len(g)):\n",
    "        g[i] = g[i] / normalization[i]\n",
    "    totalg = g[0] + g[1] + g[2]\n",
    "    totalg = totalg.astype(np.float32)\n",
    "    \n",
    "    np.save(directory + 'y_train_anisotropic_%d_%d_%d.npy'%(d, d1, index), totalf)\n",
    "    np.save(directory + 'y_test_anisotropic_%d_%d_%d.npy'%(d, d1, index), totalg)"
   ]
  },
  {
   "cell_type": "code",
   "execution_count": 3,
   "metadata": {
    "collapsed": true,
    "scrolled": true
   },
   "outputs": [],
   "source": [
    "d = 1024\n",
    "eta = 2.0 / 5.0\n",
    "n = 1024 * 1024\n",
    "kappa_mat = np.linspace(0, 1, num=10, endpoint=False)"
   ]
  },
  {
   "cell_type": "code",
   "execution_count": 4,
   "metadata": {},
   "outputs": [
    {
     "data": {
      "text/plain": [
       "array([0. , 0.1, 0.2, 0.3, 0.4, 0.5, 0.6, 0.7, 0.8, 0.9])"
      ]
     },
     "execution_count": 4,
     "metadata": {},
     "output_type": "execute_result"
    }
   ],
   "source": [
    "kappa_mat"
   ]
  },
  {
   "cell_type": "code",
   "execution_count": 5,
   "metadata": {},
   "outputs": [
    {
     "name": "stdout",
     "output_type": "stream",
     "text": [
      "d_1 is 16\n",
      "Kappa is 0.000000\n",
      "The radius $\\sqrt{d}$ is 32.000000\n",
      "The radius r is 4.000000\n",
      "d_1 is 16\n",
      "Kappa is 0.100000\n",
      "The radius $\\sqrt{d}$ is 32.000000\n",
      "The radius r is 5.656854\n",
      "d_1 is 16\n",
      "Kappa is 0.200000\n",
      "The radius $\\sqrt{d}$ is 32.000000\n",
      "The radius r is 8.000000\n",
      "d_1 is 16\n",
      "Kappa is 0.300000\n",
      "The radius $\\sqrt{d}$ is 32.000000\n",
      "The radius r is 11.313708\n",
      "d_1 is 16\n",
      "Kappa is 0.400000\n",
      "The radius $\\sqrt{d}$ is 32.000000\n",
      "The radius r is 16.000000\n",
      "d_1 is 16\n",
      "Kappa is 0.500000\n",
      "The radius $\\sqrt{d}$ is 32.000000\n",
      "The radius r is 22.627417\n",
      "d_1 is 16\n",
      "Kappa is 0.600000\n",
      "The radius $\\sqrt{d}$ is 32.000000\n",
      "The radius r is 32.000000\n",
      "d_1 is 16\n",
      "Kappa is 0.700000\n",
      "The radius $\\sqrt{d}$ is 32.000000\n",
      "The radius r is 45.254834\n",
      "d_1 is 16\n",
      "Kappa is 0.800000\n",
      "The radius $\\sqrt{d}$ is 32.000000\n",
      "The radius r is 64.000000\n",
      "d_1 is 16\n",
      "Kappa is 0.900000\n",
      "The radius $\\sqrt{d}$ is 32.000000\n",
      "The radius r is 90.509668\n"
     ]
    }
   ],
   "source": [
    "for index in range(10):\n",
    "    generate_nonuniform_data(n, d, eta, kappa_mat[index], index)"
   ]
  }
 ],
 "metadata": {
  "kernelspec": {
   "display_name": "Python 2",
   "language": "python",
   "name": "python2"
  },
  "language_info": {
   "codemirror_mode": {
    "name": "ipython",
    "version": 2
   },
   "file_extension": ".py",
   "mimetype": "text/x-python",
   "name": "python",
   "nbconvert_exporter": "python",
   "pygments_lexer": "ipython2",
   "version": "2.7.13"
  }
 },
 "nbformat": 4,
 "nbformat_minor": 2
}
